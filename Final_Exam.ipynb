{
  "nbformat": 4,
  "nbformat_minor": 0,
  "metadata": {
    "colab": {
      "name": "Final Exam.ipynb",
      "provenance": [],
      "authorship_tag": "ABX9TyPrzlnzQTK4CvonQohna7hq",
      "include_colab_link": true
    },
    "kernelspec": {
      "name": "python3",
      "display_name": "Python 3"
    },
    "language_info": {
      "name": "python"
    }
  },
  "cells": [
    {
      "cell_type": "markdown",
      "metadata": {
        "id": "view-in-github",
        "colab_type": "text"
      },
      "source": [
        "<a href=\"https://colab.research.google.com/github/JeffreySamonte/CPEN-21A-CPE-1-1/blob/main/Final_Exam.ipynb\" target=\"_parent\"><img src=\"https://colab.research.google.com/assets/colab-badge.svg\" alt=\"Open In Colab\"/></a>"
      ]
    },
    {
      "cell_type": "code",
      "execution_count": null,
      "metadata": {
        "colab": {
          "base_uri": "https://localhost:8080/"
        },
        "id": "_Ab9MV7O5JKn",
        "outputId": "a3cf919c-9b79-4130-a706-2828266d8ee9"
      },
      "outputs": [
        {
          "output_type": "stream",
          "name": "stdout",
          "text": [
            "The sum of 10 numbers less than 5 is -5\n"
          ]
        }
      ],
      "source": [
        "sum = 0\n",
        "num = [-5,-4,-3,-2,-1,0,1,2,3,4]\n",
        "for x in (num):\n",
        "  sum = sum + x\n",
        "print(\"The sum of 10 numbers less than 5 is\", sum)\n"
      ]
    },
    {
      "cell_type": "markdown",
      "source": [
        "Problem Statement 2"
      ],
      "metadata": {
        "id": "WZcYG9dL-lf8"
      }
    },
    {
      "cell_type": "code",
      "source": [
        "num = []\n",
        "\n",
        "while len(num) is not 5:\n",
        "    nums = int(input(\"number: \"))\n",
        "    num.append(nums)\n",
        "\n",
        "print(num)\n",
        "sum = num[1] + num[3]\n",
        "print(sum)"
      ],
      "metadata": {
        "id": "Zxrfjpds-Dp-",
        "colab": {
          "base_uri": "https://localhost:8080/"
        },
        "outputId": "ce8762b5-b00c-4298-85af-9deaa44ba275"
      },
      "execution_count": 3,
      "outputs": [
        {
          "output_type": "stream",
          "name": "stdout",
          "text": [
            "number: 1\n",
            "number: 2\n",
            "number: 3\n",
            "number: 4\n",
            "number: 5\n",
            "[1, 2, 3, 4, 5]\n",
            "6\n"
          ]
        }
      ]
    },
    {
      "cell_type": "markdown",
      "source": [
        "Problem Statement 3"
      ],
      "metadata": {
        "id": "U_iojg-KirqE"
      }
    },
    {
      "cell_type": "code",
      "source": [
        "grade = x = ( int(input(\"Insert Your Grade: \")))\n",
        "\n",
        "if x >= 97:\n",
        "  print(\"You got A\")\n",
        "elif x >= 90:\n",
        "  print(\"You got B\")\n",
        "elif x >= 85:\n",
        "  print(\"You got C\")\n",
        "elif x >= 80:\n",
        "  print(\"You got D\")\n",
        "else:\n",
        "  print(\"F\")"
      ],
      "metadata": {
        "colab": {
          "base_uri": "https://localhost:8080/"
        },
        "id": "a2ZLFAqKiqiH",
        "outputId": "dc6fb88c-6549-49b3-8774-66e2f05d820d"
      },
      "execution_count": 7,
      "outputs": [
        {
          "output_type": "stream",
          "name": "stdout",
          "text": [
            "Insert Your Grade: 91\n",
            "You got B\n"
          ]
        }
      ]
    }
  ]
}