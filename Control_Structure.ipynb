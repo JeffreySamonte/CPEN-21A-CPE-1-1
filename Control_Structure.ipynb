{
  "nbformat": 4,
  "nbformat_minor": 0,
  "metadata": {
    "colab": {
      "name": "Control Structure.ipynb",
      "provenance": [],
      "authorship_tag": "ABX9TyNnNeymelqT+aMIDbV4XqXv",
      "include_colab_link": true
    },
    "kernelspec": {
      "name": "python3",
      "display_name": "Python 3"
    },
    "language_info": {
      "name": "python"
    }
  },
  "cells": [
    {
      "cell_type": "markdown",
      "metadata": {
        "id": "view-in-github",
        "colab_type": "text"
      },
      "source": [
        "<a href=\"https://colab.research.google.com/github/JeffreySamonte/CPEN-21A-CPE-1-1/blob/main/Control_Structure.ipynb\" target=\"_parent\"><img src=\"https://colab.research.google.com/assets/colab-badge.svg\" alt=\"Open In Colab\"/></a>"
      ]
    },
    {
      "cell_type": "markdown",
      "metadata": {
        "id": "JghGzE3WmLwq"
      },
      "source": [
        "if Statement "
      ]
    },
    {
      "cell_type": "code",
      "metadata": {
        "colab": {
          "base_uri": "https://localhost:8080/"
        },
        "id": "-BzFdVqwmWex",
        "outputId": "420c363e-8da7-4646-ff44-cc67b3b2c3df"
      },
      "source": [
        "a = 12\n",
        "b = 100\n",
        "\n",
        "if b>a:\n",
        "  print(\"b is greater than a:\")"
      ],
      "execution_count": 5,
      "outputs": [
        {
          "output_type": "stream",
          "name": "stdout",
          "text": [
            "b is greater than a:\n"
          ]
        }
      ]
    },
    {
      "cell_type": "markdown",
      "metadata": {
        "id": "tJs0lQvVnvuA"
      },
      "source": [
        "Elif Statement"
      ]
    },
    {
      "cell_type": "code",
      "metadata": {
        "colab": {
          "base_uri": "https://localhost:8080/"
        },
        "id": "bxcCuO3-nyCW",
        "outputId": "83c28a7e-fa15-4703-b662-1f2c39f9c8ea"
      },
      "source": [
        "a = 12\n",
        "b = 12\n",
        "if b>a:\n",
        "  print(\"b is greater than a\")\n",
        "elif a==b:\n",
        "  print(\"a is equal to b\")"
      ],
      "execution_count": 6,
      "outputs": [
        {
          "output_type": "stream",
          "name": "stdout",
          "text": [
            "a is equal to b\n"
          ]
        }
      ]
    },
    {
      "cell_type": "markdown",
      "metadata": {
        "id": "DiC08Widofsd"
      },
      "source": [
        "Else Statement"
      ]
    },
    {
      "cell_type": "code",
      "metadata": {
        "colab": {
          "base_uri": "https://localhost:8080/"
        },
        "id": "eBrclwKfohQF",
        "outputId": "21486e1a-6eac-43d3-9bba-6e3752054ccd"
      },
      "source": [
        "a = 120\n",
        "b = 12\n",
        "if b>a:\n",
        "  print(\"b is greater than a\")\n",
        "elif a==b:\n",
        "  print(\"a is equal to b\")\n",
        "else:\n",
        "  print(\"b is less than a\")\n"
      ],
      "execution_count": 18,
      "outputs": [
        {
          "output_type": "stream",
          "name": "stdout",
          "text": [
            "b is less than a\n"
          ]
        }
      ]
    },
    {
      "cell_type": "markdown",
      "metadata": {
        "id": "gFaeCDQwpxHL"
      },
      "source": [
        "Short Hand if Statement"
      ]
    },
    {
      "cell_type": "code",
      "metadata": {
        "colab": {
          "base_uri": "https://localhost:8080/"
        },
        "id": "eVZpn70Lp4aj",
        "outputId": "6bc84e32-738e-4dad-d2cb-d7fc52a47d86"
      },
      "source": [
        "if b>a: \n",
        "  print(\"a is greater than b\")"
      ],
      "execution_count": 28,
      "outputs": [
        {
          "output_type": "stream",
          "name": "stdout",
          "text": [
            "a is greater than b\n"
          ]
        }
      ]
    },
    {
      "cell_type": "markdown",
      "metadata": {
        "id": "vYzRFMRVqffL"
      },
      "source": [
        "Short Hand if.. Else Statement"
      ]
    },
    {
      "cell_type": "code",
      "metadata": {
        "colab": {
          "base_uri": "https://localhost:8080/"
        },
        "id": "ur5OBu3Oqn9q",
        "outputId": "4941909f-95ee-4998-fabe-eadb358da0fd"
      },
      "source": [
        "print(\"a is greater than b\") if a>b else print(\"b is greater than a\")"
      ],
      "execution_count": 17,
      "outputs": [
        {
          "output_type": "stream",
          "name": "stdout",
          "text": [
            "a is greater than b\n"
          ]
        }
      ]
    },
    {
      "cell_type": "markdown",
      "metadata": {
        "id": "_rXwAtcAtjj1"
      },
      "source": [
        "And condition"
      ]
    },
    {
      "cell_type": "code",
      "metadata": {
        "colab": {
          "base_uri": "https://localhost:8080/"
        },
        "id": "22y5aw4-tmn9",
        "outputId": "43930f60-a484-4be1-9ed4-94cfa11cae5e"
      },
      "source": [
        "a = 15\n",
        "b = 35\n",
        "\n",
        "if b>a and a<b:\n",
        "  print(\"Both conditions are True\")\n",
        "elif b<a and a>b:\n",
        "  print(\"a is larger than b\")\n",
        "else:\n",
        "  print(\"none of the above\")"
      ],
      "execution_count": 27,
      "outputs": [
        {
          "output_type": "stream",
          "name": "stdout",
          "text": [
            "Both conditions are True\n"
          ]
        }
      ]
    },
    {
      "cell_type": "markdown",
      "metadata": {
        "id": "I-WXZvBlum6E"
      },
      "source": [
        "Or Condition"
      ]
    },
    {
      "cell_type": "code",
      "metadata": {
        "colab": {
          "base_uri": "https://localhost:8080/"
        },
        "id": "Zq1Q3Bpeu2f7",
        "outputId": "a9ddb35f-bce7-4dd5-a0ce-dbfa4f816758"
      },
      "source": [
        "a = 35\n",
        "b = 20\n",
        "\n",
        "if b>a or a==b:\n",
        "  print(\"True\")\n",
        "else:\n",
        "  print(\"False\")"
      ],
      "execution_count": 30,
      "outputs": [
        {
          "output_type": "stream",
          "name": "stdout",
          "text": [
            "False\n"
          ]
        }
      ]
    },
    {
      "cell_type": "markdown",
      "metadata": {
        "id": "29Y8yVguvsiT"
      },
      "source": [
        "Nested if"
      ]
    },
    {
      "cell_type": "code",
      "metadata": {
        "colab": {
          "base_uri": "https://localhost:8080/",
          "height": 130
        },
        "id": "UNsJpPE2vt0J",
        "outputId": "61ac9643-549c-4a62-b302-2a188c373c61"
      },
      "source": [
        "x = 9\n",
        "if x>10:\n",
        "  print(\"Above 10\")\n",
        "  if x>20:\n",
        "    print(\"Above 20\")\n",
        "  if x>30:\n",
        "      print(\"Above 30\")\n",
        "    else:\n",
        "     print(\"Not above 30\")\n",
        "  else:\n",
        "    print(\"Not above 20\")\n",
        "else:\n",
        "  print(\"Not above 10\")"
      ],
      "execution_count": 36,
      "outputs": [
        {
          "output_type": "error",
          "ename": "IndentationError",
          "evalue": "ignored",
          "traceback": [
            "\u001b[0;36m  File \u001b[0;32m\"<ipython-input-36-7fc0b0bd2694>\"\u001b[0;36m, line \u001b[0;32m8\u001b[0m\n\u001b[0;31m    else:\u001b[0m\n\u001b[0m         ^\u001b[0m\n\u001b[0;31mIndentationError\u001b[0m\u001b[0;31m:\u001b[0m unindent does not match any outer indentation level\n"
          ]
        }
      ]
    },
    {
      "cell_type": "markdown",
      "metadata": {
        "id": "qo9RPPCxxgof"
      },
      "source": [
        "Application of if.. Statement"
      ]
    },
    {
      "cell_type": "code",
      "metadata": {
        "colab": {
          "base_uri": "https://localhost:8080/"
        },
        "id": "rjFHyAtHxl2v",
        "outputId": "d4b095b2-7624-4518-f006-6d3cc71e9c08"
      },
      "source": [
        "#Examlple 1\n",
        "\n",
        "age = int(input(\"Enter your age\"))\n",
        "\n",
        "if age>=18:\n",
        "  print(\"You are qualified to vote\")\n",
        "else:\n",
        "  print(\"You are not qualified to vote\")"
      ],
      "execution_count": 40,
      "outputs": [
        {
          "output_type": "stream",
          "name": "stdout",
          "text": [
            "Enter your age12\n",
            "You are not qualified to vote\n"
          ]
        }
      ]
    },
    {
      "cell_type": "code",
      "metadata": {
        "colab": {
          "base_uri": "https://localhost:8080/"
        },
        "id": "UpHFx06Qy9pk",
        "outputId": "5887708f-75bf-4750-f01b-9f134e7de3db"
      },
      "source": [
        "#Example 2 to check whether 0, negative or positive number\n",
        "\n",
        "number = int(input(\"Enter the number:\"))\n",
        "\n",
        "if number ==0:\n",
        "  print(\"Zero\")\n",
        "elif number>0:\n",
        "  print(\"Positve\")\n",
        "else:\n",
        "  print(\"Negative\")"
      ],
      "execution_count": 41,
      "outputs": [
        {
          "output_type": "stream",
          "name": "stdout",
          "text": [
            "Enter the number:3\n",
            "Positve\n"
          ]
        }
      ]
    },
    {
      "cell_type": "code",
      "metadata": {
        "colab": {
          "base_uri": "https://localhost:8080/"
        },
        "id": "RUN7849Bzo_s",
        "outputId": "777bbacb-0e93-492e-c552-ad7fe49eed34"
      },
      "source": [
        "#Example 3 determine if the grades are:\n",
        "\n",
        "number = int(input(\"Enter the number\"))\n",
        "\n",
        "if number>=75:\n",
        "  print(\"Passed\")\n",
        "elif number==74:\n",
        "  print(\"Remedial\")\n",
        "else:\n",
        "  print(\"Failed\")"
      ],
      "execution_count": 53,
      "outputs": [
        {
          "output_type": "stream",
          "name": "stdout",
          "text": [
            "Enter the number74\n",
            "Remedial\n"
          ]
        }
      ]
    }
  ]
}