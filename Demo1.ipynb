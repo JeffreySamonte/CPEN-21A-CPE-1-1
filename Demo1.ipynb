{
  "nbformat": 4,
  "nbformat_minor": 0,
  "metadata": {
    "colab": {
      "name": "Demo1.ipynb",
      "provenance": [],
      "authorship_tag": "ABX9TyOgesCE/A9RaDQxKMY7zC+j",
      "include_colab_link": true
    },
    "kernelspec": {
      "name": "python3",
      "display_name": "Python 3"
    },
    "language_info": {
      "name": "python"
    }
  },
  "cells": [
    {
      "cell_type": "markdown",
      "metadata": {
        "id": "view-in-github",
        "colab_type": "text"
      },
      "source": [
        "<a href=\"https://colab.research.google.com/github/JeffreySamonte/CPEN-21A-CPE-1-1/blob/main/Demo1.ipynb\" target=\"_parent\"><img src=\"https://colab.research.google.com/assets/colab-badge.svg\" alt=\"Open In Colab\"/></a>"
      ]
    },
    {
      "cell_type": "markdown",
      "metadata": {
        "id": "4YFzajoaZdaS"
      },
      "source": [
        "###Introduction to python programming\n",
        "\n",
        "\n",
        "*   List item\n",
        "*   List item\n",
        "\n"
      ]
    },
    {
      "cell_type": "code",
      "metadata": {
        "colab": {
          "base_uri": "https://localhost:8080/"
        },
        "id": "gnlugvSGZ9ho",
        "outputId": "d6f7f34d-b2a1-424e-f049-7abeca4be1b5"
      },
      "source": [
        "a,b,c, = 0,1,2\n",
        "print(type(a))\n"
      ],
      "execution_count": null,
      "outputs": [
        {
          "output_type": "stream",
          "name": "stdout",
          "text": [
            "<class 'int'>\n"
          ]
        }
      ]
    },
    {
      "cell_type": "code",
      "metadata": {
        "colab": {
          "base_uri": "https://localhost:8080/"
        },
        "id": "taifU9WCaXNX",
        "outputId": "1d1e49cc-05ab-48fe-a892-9007668d8864"
      },
      "source": [
        "x=y=z=\"four\"\n",
        "print(x)\n",
        "print(y)\n",
        "print(z)"
      ],
      "execution_count": null,
      "outputs": [
        {
          "output_type": "stream",
          "name": "stdout",
          "text": [
            "four\n",
            "four\n",
            "four\n"
          ]
        }
      ]
    },
    {
      "cell_type": "code",
      "metadata": {
        "colab": {
          "base_uri": "https://localhost:8080/"
        },
        "id": "nzDYLj92aqQW",
        "outputId": "1a480de9-c346-4631-f663-2352ae7bc178"
      },
      "source": [
        "a=\"sally\"\n",
        "print(a)"
      ],
      "execution_count": null,
      "outputs": [
        {
          "output_type": "stream",
          "name": "stdout",
          "text": [
            "sally\n"
          ]
        }
      ]
    },
    {
      "cell_type": "code",
      "metadata": {
        "colab": {
          "base_uri": "https://localhost:8080/"
        },
        "id": "-Ne-zhEuayYh",
        "outputId": "dab66688-1353-460a-bd93-b3ce46979428"
      },
      "source": [
        "a=4.50\n",
        "print(type(a))"
      ],
      "execution_count": null,
      "outputs": [
        {
          "output_type": "stream",
          "name": "stdout",
          "text": [
            "<class 'float'>\n"
          ]
        }
      ]
    },
    {
      "cell_type": "code",
      "metadata": {
        "colab": {
          "base_uri": "https://localhost:8080/"
        },
        "id": "H38fbqj1axU_",
        "outputId": "9ab12345-b3eb-47a0-fa4c-65620347ddd7"
      },
      "source": [
        "x=\"enjoying\"\n",
        "print(\"Python programming is\"+ x)"
      ],
      "execution_count": null,
      "outputs": [
        {
          "output_type": "stream",
          "name": "stdout",
          "text": [
            "Python programming isenjoying\n"
          ]
        }
      ]
    },
    {
      "cell_type": "code",
      "metadata": {
        "colab": {
          "base_uri": "https://localhost:8080/"
        },
        "id": "AfnzanA5btv6",
        "outputId": "ddef1c89-7d51-4557-9fa7-307803f06d56"
      },
      "source": [
        "x=4\n",
        "y=5\n",
        "print(x+y)\n",
        "print(x-y)"
      ],
      "execution_count": null,
      "outputs": [
        {
          "output_type": "stream",
          "name": "stdout",
          "text": [
            "9\n",
            "-1\n"
          ]
        }
      ]
    },
    {
      "cell_type": "code",
      "metadata": {
        "colab": {
          "base_uri": "https://localhost:8080/"
        },
        "id": "QUg8-PvncIXt",
        "outputId": "5885fcfe-be3b-4a28-f287-d7b613dcfe29"
      },
      "source": [
        "not(x>y or x == x)   #This is an example of programming operation"
      ],
      "execution_count": null,
      "outputs": [
        {
          "output_type": "execute_result",
          "data": {
            "text/plain": [
              "False"
            ]
          },
          "metadata": {},
          "execution_count": 21
        }
      ]
    }
  ]
}