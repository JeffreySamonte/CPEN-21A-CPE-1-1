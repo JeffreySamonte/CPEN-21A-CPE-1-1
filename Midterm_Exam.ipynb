{
  "nbformat": 4,
  "nbformat_minor": 0,
  "metadata": {
    "colab": {
      "name": "Midterm Exam.ipynb",
      "provenance": [],
      "authorship_tag": "ABX9TyNHJjsYHwzPs+7mklbzex86",
      "include_colab_link": true
    },
    "kernelspec": {
      "name": "python3",
      "display_name": "Python 3"
    },
    "language_info": {
      "name": "python"
    }
  },
  "cells": [
    {
      "cell_type": "markdown",
      "metadata": {
        "id": "view-in-github",
        "colab_type": "text"
      },
      "source": [
        "<a href=\"https://colab.research.google.com/github/JeffreySamonte/CPEN-21A-CPE-1-1/blob/main/Midterm_Exam.ipynb\" target=\"_parent\"><img src=\"https://colab.research.google.com/assets/colab-badge.svg\" alt=\"Open In Colab\"/></a>"
      ]
    },
    {
      "cell_type": "markdown",
      "metadata": {
        "id": "0iOnMDrknSuK"
      },
      "source": [
        "#PROBLEM STATEMENT 1"
      ]
    },
    {
      "cell_type": "code",
      "metadata": {
        "colab": {
          "base_uri": "https://localhost:8080/"
        },
        "id": "gGrX3dHIiqEG",
        "outputId": "6f0dd55b-8520-444c-e40c-a2e7512aa3d8"
      },
      "source": [
        "Fullname= \"Jeffrey Samonte\"\n",
        "StudentNumber =\"202102562\"\n",
        "Age = \"19\"\n",
        "Birthday = \"September 10,2002\"\n",
        "Address= \"Blk9 lot1 Bria Homes General Trias Cavite\"\n",
        "Course = \"Bachelor of science in computer engineering\"\n",
        "Last_sem_GWA = \"96\"\n",
        "\n",
        "print(Fullname)\n",
        "print(StudentNumber)\n",
        "print(Age)\n",
        "print(Birthday)\n",
        "print(Address)\n",
        "print(Course)\n",
        "print(Last_sem_GWA)"
      ],
      "execution_count": null,
      "outputs": [
        {
          "output_type": "stream",
          "name": "stdout",
          "text": [
            "Jeffrey Samonte\n",
            "202102562\n",
            "19\n",
            "September 10,2002\n",
            "Blk9 lot1 Bria Homes General Trias Cavite\n",
            "Bachelor of science in computer engineering\n",
            "96\n"
          ]
        }
      ]
    },
    {
      "cell_type": "markdown",
      "metadata": {
        "id": "FabrRlBbpCzV"
      },
      "source": [
        "#PROBLEM STATEMENT NUMBER 2"
      ]
    },
    {
      "cell_type": "code",
      "metadata": {
        "colab": {
          "base_uri": "https://localhost:8080/"
        },
        "id": "DJXg0FAMpFNE",
        "outputId": "9938123e-f7eb-48e0-ab30-06125547e30c"
      },
      "source": [
        "n=4\n",
        "answ=\"Y\"\n",
        "print(2<n and n<6)\n",
        "print(2<n or n==6)\n",
        "print(not(2<n or n==6))\n",
        "print(not(n<6))\n",
        "print((answ==\"Y\") or (answ==\"y\"))\n",
        "print((answ==\"y\") and (answ==\"y\"))\n",
        "print(not answ==\"y\")\n",
        "print((2<n) and (n==7) or (answ==\"No\"))\n",
        "print((n==2) and (n==7) or (answ==\"Y\"))\n",
        "print(((n==2) and (n==7)) or (answ==\"Y\"))"
      ],
      "execution_count": 15,
      "outputs": [
        {
          "output_type": "stream",
          "name": "stdout",
          "text": [
            "True\n",
            "True\n",
            "False\n",
            "False\n",
            "True\n",
            "False\n",
            "True\n",
            "False\n",
            "True\n",
            "True\n"
          ]
        }
      ]
    },
    {
      "cell_type": "markdown",
      "metadata": {
        "id": "tc2aAnUfpVEk"
      },
      "source": [
        "#PROBLEM STATEMENT NUMBER 3"
      ]
    },
    {
      "cell_type": "code",
      "metadata": {
        "colab": {
          "base_uri": "https://localhost:8080/"
        },
        "id": "rCyMRS5apeVF",
        "outputId": "30b1b5b0-bac6-4dbe-9585-f22717b47c04"
      },
      "source": [
        "x=2\n",
        "y=-3\n",
        "w=7\n",
        "z= -10\n",
        "\n",
        "print(x/y)\n",
        "print(w/y/x)\n",
        "print(z/y%x)\n",
        "print(x%-y*w)\n",
        "print(x%y)\n",
        "print(z%w-y/x*5+5)\n",
        "print(9-x%(2+y))\n",
        "print(z//w)\n",
        "print((2+y)**2)\n",
        "print(w/x*2)"
      ],
      "execution_count": 17,
      "outputs": [
        {
          "output_type": "stream",
          "name": "stdout",
          "text": [
            "-0.6666666666666666\n",
            "-1.1666666666666667\n",
            "1.3333333333333335\n",
            "14\n",
            "-1\n",
            "16.5\n",
            "9\n",
            "-2\n",
            "1\n",
            "7.0\n"
          ]
        }
      ]
    }
  ]
}