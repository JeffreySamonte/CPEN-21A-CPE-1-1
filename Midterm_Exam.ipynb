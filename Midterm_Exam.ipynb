{
  "nbformat": 4,
  "nbformat_minor": 0,
  "metadata": {
    "colab": {
      "name": "Midterm Exam.ipynb",
      "provenance": [],
      "authorship_tag": "ABX9TyPCWbaEvW6wK/Ye0iIWbz9J",
      "include_colab_link": true
    },
    "kernelspec": {
      "name": "python3",
      "display_name": "Python 3"
    },
    "language_info": {
      "name": "python"
    }
  },
  "cells": [
    {
      "cell_type": "markdown",
      "metadata": {
        "id": "view-in-github",
        "colab_type": "text"
      },
      "source": [
        "<a href=\"https://colab.research.google.com/github/JeffreySamonte/CPEN-21A-CPE-1-1/blob/main/Midterm_Exam.ipynb\" target=\"_parent\"><img src=\"https://colab.research.google.com/assets/colab-badge.svg\" alt=\"Open In Colab\"/></a>"
      ]
    },
    {
      "cell_type": "markdown",
      "metadata": {
        "id": "0iOnMDrknSuK"
      },
      "source": [
        "##Midterm Exam"
      ]
    },
    {
      "cell_type": "code",
      "metadata": {
        "colab": {
          "base_uri": "https://localhost:8080/"
        },
        "id": "gGrX3dHIiqEG",
        "outputId": "6f0dd55b-8520-444c-e40c-a2e7512aa3d8"
      },
      "source": [
        "Fullname= \"Jeffrey Samonte\"\n",
        "StudentNumber =\"202102562\"\n",
        "Age = \"19\"\n",
        "Birthday = \"September 10,2002\"\n",
        "Address= \"Blk9 lot1 Bria Homes General Trias Cavite\"\n",
        "Course = \"Bachelor of science in computer engineering\"\n",
        "Last_sem_GWA = \"96\"\n",
        "\n",
        "print(Fullname)\n",
        "print(StudentNumber)\n",
        "print(Age)\n",
        "print(Birthday)\n",
        "print(Address)\n",
        "print(Course)\n",
        "print(Last_sem_GWA)"
      ],
      "execution_count": 13,
      "outputs": [
        {
          "output_type": "stream",
          "name": "stdout",
          "text": [
            "Jeffrey Samonte\n",
            "202102562\n",
            "19\n",
            "September 10,2002\n",
            "Blk9 lot1 Bria Homes General Trias Cavite\n",
            "Bachelor of science in computer engineering\n",
            "96\n"
          ]
        }
      ]
    }
  ]
}