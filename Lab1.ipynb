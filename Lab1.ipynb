{
  "nbformat": 4,
  "nbformat_minor": 0,
  "metadata": {
    "colab": {
      "name": "Lab1.ipynb",
      "provenance": [],
      "authorship_tag": "ABX9TyMyKZdLGNzHUGGtZv25rISX",
      "include_colab_link": true
    },
    "kernelspec": {
      "name": "python3",
      "display_name": "Python 3"
    },
    "language_info": {
      "name": "python"
    }
  },
  "cells": [
    {
      "cell_type": "markdown",
      "metadata": {
        "id": "view-in-github",
        "colab_type": "text"
      },
      "source": [
        "<a href=\"https://colab.research.google.com/github/JeffreySamonte/CPEN-21A-CPE-1-1/blob/main/Lab1.ipynb\" target=\"_parent\"><img src=\"https://colab.research.google.com/assets/colab-badge.svg\" alt=\"Open In Colab\"/></a>"
      ]
    },
    {
      "cell_type": "markdown",
      "metadata": {
        "id": "qjlAU3PfXFB8"
      },
      "source": [
        "##Laboratory 1"
      ]
    },
    {
      "cell_type": "code",
      "metadata": {
        "colab": {
          "base_uri": "https://localhost:8080/"
        },
        "id": "pJjZfNojdQ8u",
        "outputId": "a7683da1-529b-4e1b-bb3d-6a562fb49c10"
      },
      "source": [
        "a= \"Welcome to \"\n",
        "b= \"Python Programming\"\n",
        "c= a+b\n",
        "print(c)"
      ],
      "execution_count": 14,
      "outputs": [
        {
          "output_type": "stream",
          "name": "stdout",
          "text": [
            "Welcome to Python Programming\n"
          ]
        }
      ]
    },
    {
      "cell_type": "code",
      "metadata": {
        "colab": {
          "base_uri": "https://localhost:8080/"
        },
        "id": "-ltUexa6XDrM",
        "outputId": "881ea13a-2e81-47f8-e13a-37d602388b3e"
      },
      "source": [
        "Name= 'Jeffrey R Samonte'\n",
        "print (A)\n"
      ],
      "execution_count": null,
      "outputs": [
        {
          "output_type": "stream",
          "name": "stdout",
          "text": [
            "Jeffrey R Samonte\n"
          ]
        }
      ]
    },
    {
      "cell_type": "code",
      "metadata": {
        "colab": {
          "base_uri": "https://localhost:8080/"
        },
        "id": "MMsqQdcDYGg6",
        "outputId": "294c5a86-a282-440e-e8c4-b1d3f6b4e64d"
      },
      "source": [
        "Address= 'Blk9 Lot1 Marikit Street Bria Homes General Trias Cavite'\n",
        "print (B)\n"
      ],
      "execution_count": null,
      "outputs": [
        {
          "output_type": "stream",
          "name": "stdout",
          "text": [
            "Blk9 Lot1 Marikit Street Bria Homes General Trias Cavite\n"
          ]
        }
      ]
    },
    {
      "cell_type": "code",
      "metadata": {
        "colab": {
          "base_uri": "https://localhost:8080/"
        },
        "id": "trxuKmMhYgkk",
        "outputId": "7fb7c355-4651-4ec4-bfc7-700016c9c996"
      },
      "source": [
        "Age= '19 yrs old'\n",
        "print(C)\n"
      ],
      "execution_count": null,
      "outputs": [
        {
          "output_type": "stream",
          "name": "stdout",
          "text": [
            "19 yrs old\n"
          ]
        }
      ]
    }
  ]
}