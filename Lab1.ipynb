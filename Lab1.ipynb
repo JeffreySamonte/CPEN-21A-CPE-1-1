{
  "nbformat": 4,
  "nbformat_minor": 0,
  "metadata": {
    "colab": {
      "name": "Lab1.ipynb",
      "provenance": [],
      "authorship_tag": "ABX9TyPKm+AEpbMO32lezGjEdBae",
      "include_colab_link": true
    },
    "kernelspec": {
      "name": "python3",
      "display_name": "Python 3"
    },
    "language_info": {
      "name": "python"
    }
  },
  "cells": [
    {
      "cell_type": "markdown",
      "metadata": {
        "id": "view-in-github",
        "colab_type": "text"
      },
      "source": [
        "<a href=\"https://colab.research.google.com/github/JeffreySamonte/CPEN-21A-CPE-1-1/blob/main/Lab1.ipynb\" target=\"_parent\"><img src=\"https://colab.research.google.com/assets/colab-badge.svg\" alt=\"Open In Colab\"/></a>"
      ]
    },
    {
      "cell_type": "markdown",
      "metadata": {
        "id": "qjlAU3PfXFB8"
      },
      "source": [
        "##Welcome to Python Programming"
      ]
    },
    {
      "cell_type": "code",
      "metadata": {
        "colab": {
          "base_uri": "https://localhost:8080/"
        },
        "id": "-ltUexa6XDrM",
        "outputId": "e628f3ba-9053-4dcd-b8a1-0d40ecc872d6"
      },
      "source": [
        "A= 'Jeffrey R Samonte'\n",
        "print (A)\n",
        "print(type(A))"
      ],
      "execution_count": 4,
      "outputs": [
        {
          "output_type": "stream",
          "name": "stdout",
          "text": [
            "Jeffrey R Samonte\n",
            "<class 'str'>\n"
          ]
        }
      ]
    },
    {
      "cell_type": "code",
      "metadata": {
        "colab": {
          "base_uri": "https://localhost:8080/"
        },
        "id": "MMsqQdcDYGg6",
        "outputId": "a8cb47b0-0713-4b56-d184-820363575140"
      },
      "source": [
        "B= 'Blk9 Lot1 Marikit Street Bria Homes General Trias Cavite'\n",
        "print (B)\n",
        "print(type(B))"
      ],
      "execution_count": 5,
      "outputs": [
        {
          "output_type": "stream",
          "name": "stdout",
          "text": [
            "Blk9 Lot1 Marikit Street Bria Homes General Trias Cavite\n",
            "<class 'str'>\n"
          ]
        }
      ]
    },
    {
      "cell_type": "code",
      "metadata": {
        "colab": {
          "base_uri": "https://localhost:8080/"
        },
        "id": "trxuKmMhYgkk",
        "outputId": "e8fd71ca-ce40-482f-f7d9-b9db8bd8dee3"
      },
      "source": [
        "C= '19 yrs old'\n",
        "print(C)\n",
        "print(type(C))"
      ],
      "execution_count": 6,
      "outputs": [
        {
          "output_type": "stream",
          "name": "stdout",
          "text": [
            "19 yrs old\n",
            "<class 'str'>\n"
          ]
        }
      ]
    }
  ]
}